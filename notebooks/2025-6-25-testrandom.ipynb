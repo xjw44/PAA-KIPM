{
 "cells": [
  {
   "cell_type": "code",
   "execution_count": 1,
   "id": "d989d52d-7f23-4d24-bafc-b35f6cc8417b",
   "metadata": {},
   "outputs": [
    {
     "name": "stdout",
     "output_type": "stream",
     "text": [
      "[1.+2.j 3.+4.j 5.+6.j]\n"
     ]
    }
   ],
   "source": [
    "import numpy as np\n",
    "\n",
    "complex_array = np.array([1 + 2j, 3 + 4j, 5 + 6j])\n",
    "print(complex_array)\n"
   ]
  },
  {
   "cell_type": "code",
   "execution_count": 6,
   "id": "68ed23b7-e3d6-4e5b-b86a-b151908be12a",
   "metadata": {},
   "outputs": [
    {
     "data": {
      "text/plain": [
       "-2.405089905325885"
      ]
     },
     "execution_count": 6,
     "metadata": {},
     "output_type": "execute_result"
    }
   ],
   "source": [
    "import math\n",
    "\n",
    "x = np.sqrt(0.51104222**2+0.56000158**2)\n",
    "log10_x = math.log10(x)\n",
    "log10_x*20"
   ]
  },
  {
   "cell_type": "code",
   "execution_count": null,
   "id": "75b0e694-779c-4680-b9da-b7bb73ec30b5",
   "metadata": {},
   "outputs": [],
   "source": []
  }
 ],
 "metadata": {
  "kernelspec": {
   "display_name": "Python 3 (ipykernel)",
   "language": "python",
   "name": "python3"
  },
  "language_info": {
   "codemirror_mode": {
    "name": "ipython",
    "version": 3
   },
   "file_extension": ".py",
   "mimetype": "text/x-python",
   "name": "python",
   "nbconvert_exporter": "python",
   "pygments_lexer": "ipython3",
   "version": "3.11.6"
  }
 },
 "nbformat": 4,
 "nbformat_minor": 5
}
